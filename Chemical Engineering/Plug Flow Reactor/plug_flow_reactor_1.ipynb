{
 "cells": [
  {
   "attachments": {},
   "cell_type": "markdown",
   "metadata": {},
   "source": [
    "### Task\n",
    "* Given\n",
    "    * Operating temp & pressure (K, atm)\n",
    "    * Reaction Kinetics Information\n",
    "    * Reaction Thermochemistry Information (MJ/kmol)\n",
    "    * Reaction Stoichiometry\n",
    "    * Composition at inlet (kmol/m3)\n",
    "<br>\n",
    "* To find\n",
    "    * Composition at outlet (kmol/m3)\n",
    "    * Cooling/Heating duty (MJ) if reactor is isothermal"
   ]
  },
  {
   "cell_type": "code",
   "execution_count": null,
   "metadata": {},
   "outputs": [],
   "source": [
    "import pandas as pd\n",
    "import math\n",
    "from typing import Callable\n",
    "import pfr_utils as pu"
   ]
  },
  {
   "attachments": {},
   "cell_type": "markdown",
   "metadata": {},
   "source": [
    "#### 1.1. Steady-State Simulation using Euler's finite difference method\n",
    "* 2A + B = C + 3D"
   ]
  },
  {
   "cell_type": "code",
   "execution_count": null,
   "metadata": {},
   "outputs": [],
   "source": [
    "moles_A = {0.00:0.8} # Keys will be z-co-ordinate\n",
    "moles_B = {0.00:0.5}\n",
    "moles_C = {0.00:0}\n",
    "moles_D = {0.00:0}\n",
    "\n",
    "Temp_kelvin = {0.00:900}\n",
    "\n",
    "if cooling is True:\n",
    "    rate_const_entry = rate_const(Temp_kelvin[list(Temp_kelvin.keys())[0]])\n",
    "\n",
    "# For 10 nodes\n",
    "for i in range(10):\n",
    "    z_coord = float(f\"{(i*length_step):.2f}\")\n",
    "    z_next = float(f\"{(z_coord + length_step):.2f}\")\n",
    "    \n",
    "    # Calculate rate of reaction in this element w.r.t. A using temperature at \n",
    "    # entry of elemental volume\n",
    "    if cooling is False:\n",
    "        rate_A = rate_const(Temp_kelvin[z_coord]) * (moles_A[z_coord] ** abs(stoic_cf[0]))\n",
    "    else:\n",
    "        rate_A = rate_const_entry * (moles_A[z_coord] ** abs(stoic_cf[0]))\n",
    "    \n",
    "    # Calculate concentration to check for limiting reactant\n",
    "    moles_reacted_A = (rate_A * (length_step ** 2)/(axial_vel))\n",
    "    next_moles_A = moles_A[z_coord] - moles_reacted_A\n",
    "\n",
    "    next_moles_B = moles_B[z_coord] - \\\n",
    "                    (stoic_cf[1]/stoic_cf[0]) * moles_reacted_A\n",
    "    \n",
    "    next_moles_C = moles_C[z_coord] - \\\n",
    "                    (stoic_cf[2]/stoic_cf[0]) * moles_reacted_A\n",
    "    \n",
    "    next_moles_D = moles_D[z_coord] - \\\n",
    "                    (stoic_cf[3]/stoic_cf[0]) * moles_reacted_A\n",
    "\n",
    "    # Check for limiting reactant. Only proceed if no concentration is equal to 0\n",
    "    if next_moles_A > 0 and next_moles_B > 0:\n",
    "        # Calculate moles for next node\n",
    "        moles_A[z_next] = next_moles_A\n",
    "        moles_B[z_next] = next_moles_B\n",
    "        moles_C[z_next] = next_moles_C\n",
    "        moles_D[z_next] = next_moles_D\n",
    "\n",
    "        # Calculate temperature for next node & cooling duty as per settings of reactor cooling\n",
    "        if cooling is False:\n",
    "            \n",
    "            # Calculate density & specific heat capacity\n",
    "            moles_state = [\n",
    "                moles_A[z_coord],moles_B[z_coord],\n",
    "                moles_C[z_coord],moles_D[z_coord]\n",
    "                ]\n",
    "            element_mass = sum([a*b \n",
    "                                for a,b in zip(moles_state,molecular_wt)\n",
    "                                ])\n",
    "            element_sp_heat_cap = sum([\n",
    "                a*b*c*1e-3 \n",
    "                for a,b,c in zip(moles_state,sp_heat_cap,molecular_wt)\n",
    "                ])/element_vol\n",
    "            \n",
    "            # Calculate temperature for next node\n",
    "            Temp_kelvin[z_next] = Temp_kelvin[z_coord] + (moles_reacted_A*heat_of_rxn/\\\n",
    "                                                      (element_mass*element_sp_heat_cap))\n",
    "            \n",
    "        else:\n",
    "            cooling_duty_kJ += moles_reacted_A*heat_of_rxn\n",
    "            Temp_kelvin[z_next] = Temp_kelvin[z_coord]\n",
    "    \n",
    "    # Else if some concentration is zero\n",
    "    else:\n",
    "        # Determine moles and temperature for next node, as being the same as current node\n",
    "        moles_A[z_next] = moles_A[z_coord]\n",
    "        moles_B[z_next] = moles_B[z_coord]\n",
    "        moles_C[z_next] = moles_C[z_coord]\n",
    "        moles_D[z_next] = moles_D[z_coord]\n",
    "        Temp_kelvin[z_next] = Temp_kelvin[z_coord]\n",
    "        "
   ]
  },
  {
   "cell_type": "code",
   "execution_count": null,
   "metadata": {},
   "outputs": [],
   "source": [
    "df_moles = pd.DataFrame(data=[moles_A,moles_B,moles_C,moles_D],\n",
    "                       index=[\"moles_A\",\"moles_B\",\"moles_C\",\"moles_D\"]).transpose()\n",
    "df_moles"
   ]
  },
  {
   "cell_type": "code",
   "execution_count": null,
   "metadata": {},
   "outputs": [],
   "source": [
    "from matplotlib_funcs import *\n",
    "\n",
    "plot_matplotlib_style(df_moles.index,df_moles[\"moles_A\"],\"Length\",\"Moles of A (mol)\",\"Moles of A (mol)\")\n",
    "plot_matplotlib_style(df_moles.index,df_moles[\"moles_B\"],\"Length\",\"Moles of B (mol)\",\"Moles of B (mol)\")\n",
    "plot_matplotlib_style(df_moles.index,df_moles[\"moles_C\"],\"Length\",\"Moles of C (mol)\",\"Moles of C (mol)\")\n",
    "plot_matplotlib_style(df_moles.index,df_moles[\"moles_D\"],\"Length\",\"Moles of D (mol)\",\"Moles of D (mol)\")\n",
    "plot_matplotlib_style(df_moles.index,Temp_kelvin.values(),\"Length\",\"Temperature (K)\",\"Temperature (K)\")"
   ]
  },
  {
   "cell_type": "code",
   "execution_count": null,
   "metadata": {},
   "outputs": [],
   "source": [
    "cooling_duty_kJ"
   ]
  },
  {
   "cell_type": "markdown",
   "metadata": {},
   "source": [
    "#### 1.2. Transient Simulation using Euler's Finite Difference Method\n",
    "* Transient Mass Balance\n",
    "* Transient Energy Balance\n",
    "* [Tutorial: Numerical Solution of PDEs by FDM](https://math.libretexts.org/Bookshelves/Differential_Equations/Introduction_to_Partial_Differential_Equations_(Herman)/10%3A_Numerical_Solutions_of_PDEs/10.02%3A_The_Heat_Equation)"
   ]
  },
  {
   "cell_type": "code",
   "execution_count": 51,
   "metadata": {},
   "outputs": [],
   "source": [
    "from pprint import pprint\n",
    "import pfr_calc as pc\n",
    "import pfr_utils as pu\n",
    "import math\n",
    "import json\n",
    "\n",
    "# run function\n",
    "def run()->dict[str, dict[float, float]]:\n",
    "    # Configure the individual config elements separately, and then assemble\n",
    "    # in ProcessSimulationConfig object\n",
    "    Chem_A = pu.Chemical(\"A\",20,4)\n",
    "    Chem_B = pu.Chemical(\"B\",20,5)\n",
    "    Chem_C = pu.Chemical(\"C\",30,2)\n",
    "    Chem_D = pu.Chemical(\"D\",10,10)\n",
    "    \n",
    "    my_reaction = pu.Reaction({Chem_A:-2,Chem_B:-1,Chem_C:1,Chem_D:3},50000,2e-3,5)\n",
    "    my_reactor = pu.Reactor(False,0.4,2)\n",
    "    my_solver = pu.ReactorFDMSolver(1e-2,0.1)\n",
    "\n",
    "    my_config =pu.ProcessSimulationConfig(\n",
    "        reaction=my_reaction,\n",
    "        reactor=my_reactor,\n",
    "        solver=my_solver\n",
    "    )\n",
    "    \n",
    "    entry_mol = [1,0.8,0,0.1]\n",
    "    axial_vel = 1e-4\n",
    "    t_points = [float(f\"{(i*math.pi/10):.2f}\") for i in range(10)]  \n",
    "    return pc.calc_steady_profile(my_config,entry_mol,axial_vel)\n",
    "\n",
    "output_1 = run()"
   ]
  },
  {
   "cell_type": "code",
   "execution_count": 55,
   "metadata": {},
   "outputs": [
    {
     "name": "stdout",
     "output_type": "stream",
     "text": [
      "{Chemical(name='D', mol_wt=10, sp_heat_cap=10): \"<class 'list'>\",\n",
      " Chemical(name='A', mol_wt=20, sp_heat_cap=4): \"<class 'list'>\",\n",
      " Chemical(name='B', mol_wt=20, sp_heat_cap=5): \"<class 'list'>\",\n",
      " Chemical(name='C', mol_wt=30, sp_heat_cap=2): \"<class 'list'>\",\n",
      " 'Temperature (K)': {0.0: 900,\n",
      "                     0.1: 900.0,\n",
      "                     0.2: 900.0,\n",
      "                     0.3: 900.0,\n",
      "                     0.4: 900.0,\n",
      "                     0.5: 900.0,\n",
      "                     0.6: 900.0,\n",
      "                     0.7: 900.0,\n",
      "                     0.8: 900.0,\n",
      "                     0.9: 900.0,\n",
      "                     1.0: 900.0}}\n"
     ]
    }
   ],
   "source": [
    "# TODO: Recursively convert all values to strings to save into json\n",
    "\n",
    "def stringify(dict1:dict):\n",
    "    for key, val in dict1.items():\n",
    "        if type(val) is dict:\n",
    "            stringify(val)\n",
    "        elif type(val) is list:\n",
    "            # list of dict\n",
    "            if type(val[0]) is dict:\n",
    "                [stringify(value_dict)\n",
    "                 for value_dict in val]\n",
    "\n",
    "            dict1.update({key:str(val)})\n",
    "    return dict1\n",
    "\n",
    "new_dict = stringify(output_1)\n",
    "pprint(new_dict)"
   ]
  },
  {
   "cell_type": "code",
   "execution_count": 52,
   "metadata": {},
   "outputs": [
    {
     "ename": "TypeError",
     "evalue": "the JSON object must be str, bytes or bytearray, not dict",
     "output_type": "error",
     "traceback": [
      "\u001b[1;31m---------------------------------------------------------------------------\u001b[0m",
      "\u001b[1;31mTypeError\u001b[0m                                 Traceback (most recent call last)",
      "\u001b[1;32me:\\Python\\Plug Flow Reactor\\plug_flow_reactor_1.ipynb Cell 13\u001b[0m in \u001b[0;36m1\n\u001b[0;32m     <a href='vscode-notebook-cell:/e%3A/Python/Plug%20Flow%20Reactor/plug_flow_reactor_1.ipynb#X16sZmlsZQ%3D%3D?line=14'>15</a>\u001b[0m     \u001b[39melif\u001b[39;00m kwargs[\u001b[39m\"\u001b[39m\u001b[39mflag\u001b[39m\u001b[39m\"\u001b[39m] \u001b[39m==\u001b[39m \u001b[39m'\u001b[39m\u001b[39mpprint\u001b[39m\u001b[39m'\u001b[39m:\n\u001b[0;32m     <a href='vscode-notebook-cell:/e%3A/Python/Plug%20Flow%20Reactor/plug_flow_reactor_1.ipynb#X16sZmlsZQ%3D%3D?line=15'>16</a>\u001b[0m         pprint(output_1)\n\u001b[1;32m---> <a href='vscode-notebook-cell:/e%3A/Python/Plug%20Flow%20Reactor/plug_flow_reactor_1.ipynb#X16sZmlsZQ%3D%3D?line=17'>18</a>\u001b[0m run_save(flag\u001b[39m=\u001b[39m\u001b[39m\"\u001b[39m\u001b[39mjson\u001b[39m\u001b[39m\"\u001b[39m)\n",
      "\u001b[1;32me:\\Python\\Plug Flow Reactor\\plug_flow_reactor_1.ipynb Cell 13\u001b[0m in \u001b[0;36m1\n\u001b[0;32m     <a href='vscode-notebook-cell:/e%3A/Python/Plug%20Flow%20Reactor/plug_flow_reactor_1.ipynb#X16sZmlsZQ%3D%3D?line=11'>12</a>\u001b[0m \u001b[39mif\u001b[39;00m kwargs[\u001b[39m\"\u001b[39m\u001b[39mflag\u001b[39m\u001b[39m\"\u001b[39m] \u001b[39m==\u001b[39m \u001b[39m'\u001b[39m\u001b[39mjson\u001b[39m\u001b[39m'\u001b[39m:\n\u001b[0;32m     <a href='vscode-notebook-cell:/e%3A/Python/Plug%20Flow%20Reactor/plug_flow_reactor_1.ipynb#X16sZmlsZQ%3D%3D?line=12'>13</a>\u001b[0m     \u001b[39mwith\u001b[39;00m \u001b[39mopen\u001b[39m(\u001b[39m\"\u001b[39m\u001b[39msteady1.json\u001b[39m\u001b[39m\"\u001b[39m,\u001b[39m'\u001b[39m\u001b[39mw\u001b[39m\u001b[39m'\u001b[39m) \u001b[39mas\u001b[39;00m f:\n\u001b[1;32m---> <a href='vscode-notebook-cell:/e%3A/Python/Plug%20Flow%20Reactor/plug_flow_reactor_1.ipynb#X16sZmlsZQ%3D%3D?line=13'>14</a>\u001b[0m         json\u001b[39m.\u001b[39mdump(json\u001b[39m.\u001b[39;49mloads(output_1),f,indent\u001b[39m=\u001b[39m\u001b[39m4\u001b[39m)\n\u001b[0;32m     <a href='vscode-notebook-cell:/e%3A/Python/Plug%20Flow%20Reactor/plug_flow_reactor_1.ipynb#X16sZmlsZQ%3D%3D?line=14'>15</a>\u001b[0m \u001b[39melif\u001b[39;00m kwargs[\u001b[39m\"\u001b[39m\u001b[39mflag\u001b[39m\u001b[39m\"\u001b[39m] \u001b[39m==\u001b[39m \u001b[39m'\u001b[39m\u001b[39mpprint\u001b[39m\u001b[39m'\u001b[39m:\n\u001b[0;32m     <a href='vscode-notebook-cell:/e%3A/Python/Plug%20Flow%20Reactor/plug_flow_reactor_1.ipynb#X16sZmlsZQ%3D%3D?line=15'>16</a>\u001b[0m     pprint(output_1)\n",
      "File \u001b[1;32mE:\\Python\\pyver\\py3913\\lib\\json\\__init__.py:339\u001b[0m, in \u001b[0;36mloads\u001b[1;34m(s, cls, object_hook, parse_float, parse_int, parse_constant, object_pairs_hook, **kw)\u001b[0m\n\u001b[0;32m    337\u001b[0m \u001b[39melse\u001b[39;00m:\n\u001b[0;32m    338\u001b[0m     \u001b[39mif\u001b[39;00m \u001b[39mnot\u001b[39;00m \u001b[39misinstance\u001b[39m(s, (\u001b[39mbytes\u001b[39m, \u001b[39mbytearray\u001b[39m)):\n\u001b[1;32m--> 339\u001b[0m         \u001b[39mraise\u001b[39;00m \u001b[39mTypeError\u001b[39;00m(\u001b[39mf\u001b[39m\u001b[39m'\u001b[39m\u001b[39mthe JSON object must be str, bytes or bytearray, \u001b[39m\u001b[39m'\u001b[39m\n\u001b[0;32m    340\u001b[0m                         \u001b[39mf\u001b[39m\u001b[39m'\u001b[39m\u001b[39mnot \u001b[39m\u001b[39m{\u001b[39;00ms\u001b[39m.\u001b[39m\u001b[39m__class__\u001b[39m\u001b[39m.\u001b[39m\u001b[39m__name__\u001b[39m\u001b[39m}\u001b[39;00m\u001b[39m'\u001b[39m)\n\u001b[0;32m    341\u001b[0m     s \u001b[39m=\u001b[39m s\u001b[39m.\u001b[39mdecode(detect_encoding(s), \u001b[39m'\u001b[39m\u001b[39msurrogatepass\u001b[39m\u001b[39m'\u001b[39m)\n\u001b[0;32m    343\u001b[0m \u001b[39mif\u001b[39;00m (\u001b[39mcls\u001b[39m \u001b[39mis\u001b[39;00m \u001b[39mNone\u001b[39;00m \u001b[39mand\u001b[39;00m object_hook \u001b[39mis\u001b[39;00m \u001b[39mNone\u001b[39;00m \u001b[39mand\u001b[39;00m\n\u001b[0;32m    344\u001b[0m         parse_int \u001b[39mis\u001b[39;00m \u001b[39mNone\u001b[39;00m \u001b[39mand\u001b[39;00m parse_float \u001b[39mis\u001b[39;00m \u001b[39mNone\u001b[39;00m \u001b[39mand\u001b[39;00m\n\u001b[0;32m    345\u001b[0m         parse_constant \u001b[39mis\u001b[39;00m \u001b[39mNone\u001b[39;00m \u001b[39mand\u001b[39;00m object_pairs_hook \u001b[39mis\u001b[39;00m \u001b[39mNone\u001b[39;00m \u001b[39mand\u001b[39;00m \u001b[39mnot\u001b[39;00m kw):\n",
      "\u001b[1;31mTypeError\u001b[0m: the JSON object must be str, bytes or bytearray, not dict"
     ]
    }
   ],
   "source": [
    "# Run the run function with output formatting & saving in json format\n",
    "def run_save(**kwargs):\n",
    "    stringify(output_1)\n",
    "    \n",
    "    # Choose between json & pprint for testing. TODO: Delete after json is created.\n",
    "    if kwargs[\"flag\"] == 'json':\n",
    "        with open(\"steady1.json\",'w') as f:\n",
    "            json.dump(json.loads(output_1),f,indent=4)\n",
    "    elif kwargs[\"flag\"] == 'pprint':\n",
    "        pprint(output_1)\n",
    "\n",
    "run_save(flag=\"json\")"
   ]
  }
 ],
 "metadata": {
  "kernelspec": {
   "display_name": "optimization",
   "language": "python",
   "name": "python3"
  },
  "language_info": {
   "codemirror_mode": {
    "name": "ipython",
    "version": 3
   },
   "file_extension": ".py",
   "mimetype": "text/x-python",
   "name": "python",
   "nbconvert_exporter": "python",
   "pygments_lexer": "ipython3",
   "version": "3.9.13"
  },
  "orig_nbformat": 4
 },
 "nbformat": 4,
 "nbformat_minor": 2
}
