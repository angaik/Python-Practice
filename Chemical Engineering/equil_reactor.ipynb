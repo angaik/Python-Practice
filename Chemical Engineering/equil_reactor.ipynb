{
 "cells": [
  {
   "attachments": {},
   "cell_type": "markdown",
   "metadata": {},
   "source": [
    "### Task\n",
    "* Predict equilibrium concentration for a reaction based on initial concentration & reaction equilibrium constant."
   ]
  },
  {
   "attachments": {},
   "cell_type": "markdown",
   "metadata": {},
   "source": [
    "#### Part 1: Find concentrations for given equilibrium conversion & reaction stoichiometry"
   ]
  },
  {
   "cell_type": "code",
   "execution_count": 1,
   "metadata": {},
   "outputs": [
    {
     "name": "stdout",
     "output_type": "stream",
     "text": [
      "The concentration of A is 1.02.\n",
      "The concentration of B is 0.51.\n",
      "The concentration of C is 1.18.\n"
     ]
    }
   ],
   "source": [
    "# 2A + B -> C\n",
    "\n",
    "# Initial concentrations\n",
    "c_A0 = 2\n",
    "c_B0 = 1\n",
    "c_C0 = 0.2\n",
    "\n",
    "# Equilibrium conversion\n",
    "Equil_Conversion = 0.49\n",
    "\n",
    "# Concentrations at equilibrium\n",
    "c_A = c_A0 - Equil_Conversion * c_A0\n",
    "c_B = c_B0 - min(Equil_Conversion * c_A0 * 0.5,c_B0)\n",
    "c_C = c_C0 + Equil_Conversion * c_A0\n",
    "\n",
    "Equil_Const = c_C/(c_A*c_B)\n",
    "\n",
    "print(f\"The concentration of A is {c_A}.\")\n",
    "print(f\"The concentration of B is {c_B}.\")\n",
    "print(f\"The concentration of C is {c_C}.\")"
   ]
  },
  {
   "attachments": {},
   "cell_type": "markdown",
   "metadata": {},
   "source": [
    "#### Part 2: Find equilibrium concentrations for water-gas-shift-reaction"
   ]
  },
  {
   "cell_type": "code",
   "execution_count": 2,
   "metadata": {},
   "outputs": [],
   "source": [
    "from sympy import *"
   ]
  },
  {
   "cell_type": "code",
   "execution_count": 3,
   "metadata": {},
   "outputs": [],
   "source": [
    "def wgs_equil_const(T:float)->float:\n",
    "    \"\"\"WGS Equil Const = 10*exp(-2.4198+0.0003855*T+(2180.6/T)) when T in Kelvin.\n",
    "    Source: [Wikipedia](https://en.wikipedia.org/wiki/Water%E2%80%93gas_shift_reaction)\"\"\"\n",
    "    \n",
    "    return 10**(-2.4198+0.0003855*T+(2180.6/T))\n",
    "\n",
    "def calc_eqlm_conc(c0:tuple[float],T:float)->tuple[float]:\n",
    "    c_A0, c_B0, c_C0, c_D0 = c0 # CO + H2O = CO2 + H2 : respectively A,B,C,D in order\n",
    "    K_eq = wgs_equil_const(T)\n",
    "    \n",
    "    A,B,C,D, X = symbols(\"c_A c_B c_C c_D X_eq\")\n",
    "    expr_A = c_A0-X*c_A0 - A\n",
    "    expr_B = c_B0-X*c_A0 - B\n",
    "    expr_C = c_C0+X*c_A0 - C\n",
    "    expr_D = c_D0+X*c_A0 - D\n",
    "    expr_eq = ((C*D)/(A*B))-K_eq\n",
    "\n",
    "    x = nsolve([expr_A,expr_B,expr_C,expr_D,expr_eq],[A,B,C,D,X],[0.5 for i in range(5)])\n",
    "\n",
    "    return x\n",
    "\n",
    "A,c_B,c_C,c_D, X = calc_eqlm_conc((1,0.8,0,0.1),800)    # 800 K"
   ]
  },
  {
   "cell_type": "code",
   "execution_count": 4,
   "metadata": {},
   "outputs": [
    {
     "name": "stdout",
     "output_type": "stream",
     "text": [
      "0.576365660402749\n"
     ]
    }
   ],
   "source": [
    "print(X)    # Equilibrium Conversion"
   ]
  }
 ],
 "metadata": {
  "kernelspec": {
   "display_name": "openLCA",
   "language": "python",
   "name": "python3"
  },
  "language_info": {
   "codemirror_mode": {
    "name": "ipython",
    "version": 3
   },
   "file_extension": ".py",
   "mimetype": "text/x-python",
   "name": "python",
   "nbconvert_exporter": "python",
   "pygments_lexer": "ipython3",
   "version": "3.9.13"
  },
  "orig_nbformat": 4
 },
 "nbformat": 4,
 "nbformat_minor": 2
}
