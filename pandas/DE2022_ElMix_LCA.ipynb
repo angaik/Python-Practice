{
 "cells": [
  {
   "cell_type": "code",
   "execution_count": null,
   "metadata": {},
   "outputs": [],
   "source": [
    "import pandas as pd"
   ]
  },
  {
   "cell_type": "code",
   "execution_count": null,
   "metadata": {},
   "outputs": [],
   "source": [
    "# Units GWh\n",
    "# pd dataframes indexing as [column][row].\n",
    "DE2022_ElMix=pd.read_csv(\"..\\energy-charts_Public_net_electricity_generation_in_Germany_in_2022_Excel.csv\")"
   ]
  },
  {
   "cell_type": "code",
   "execution_count": null,
   "metadata": {},
   "outputs": [],
   "source": [
    "# Make a new dict with keys as dataframe keys except day, and other irrelevant energy type columns.\n",
    "\n",
    "# Add waste renew, non-renew; as well as wind-off, onshore into single columns in df\n",
    "DE2022_ElMix[\"Waste incineration\"]=DE2022_ElMix[\"Waste renewable\"]+DE2022_ElMix[\"Waste non-renewable\"]\n",
    "DE2022_ElMix[\"Wind\"]=DE2022_ElMix[\"Wind offshore\"]+DE2022_ElMix[\"Wind onshore\"]\n",
    "columns_to_remove=[\"Waste renewable\",\"Waste non-renewable\",\"Wind offshore\",\"Wind onshore\",\"Others\",\"Other renewables\",\"Hydro water reservoir\"]\n",
    "DE2022_ElMix=DE2022_ElMix.drop(columns=columns_to_remove)"
   ]
  },
  {
   "cell_type": "code",
   "execution_count": null,
   "metadata": {},
   "outputs": [],
   "source": [
    "## Defining dictionary of carbon footprints according to electricity production technology\n",
    "\n",
    "# Values as respective carbon footprints from openLCA\n",
    "c_footprint_keys=DE2022_ElMix.keys().drop(\"Day\").__dict__[\"_data\"]\n",
    "# Carbon footprints as kgCO2eq/kWh\n",
    "c_footprint_values=[0.00492,0.00603,0.22043,1.15007,1.03913,0.81549,0.50763,0.06316,0.04913,2.00865,0.01173]\n",
    "CF_dict=dict(zip(c_footprint_keys,c_footprint_values))"
   ]
  },
  {
   "cell_type": "code",
   "execution_count": null,
   "metadata": {},
   "outputs": [],
   "source": [
    "# Calculate kgCO2eq\n",
    "DE2022_ElMix_CF=DE2022_ElMix[c_footprint_keys]*1e6*CF_dict"
   ]
  },
  {
   "cell_type": "code",
   "execution_count": null,
   "metadata": {},
   "outputs": [],
   "source": [
    "# Calculate total kgCO2eq\n",
    "a=DE2022_ElMix_CF[c_footprint_keys]\n",
    "tot_CO2=sum(a.sum())"
   ]
  },
  {
   "cell_type": "code",
   "execution_count": null,
   "metadata": {},
   "outputs": [],
   "source": [
    "# Calculate total kWh\n",
    "tot_kWh=sum(DE2022_ElMix[c_footprint_keys].sum())*1e6\n",
    "avg_CF=tot_CO2/tot_kWh"
   ]
  }
 ],
 "metadata": {
  "kernelspec": {
   "display_name": "Python 3.9.13 64-bit (microsoft store)",
   "language": "python",
   "name": "python3"
  },
  "language_info": {
   "codemirror_mode": {
    "name": "ipython",
    "version": 3
   },
   "file_extension": ".py",
   "mimetype": "text/x-python",
   "name": "python",
   "nbconvert_exporter": "python",
   "pygments_lexer": "ipython3",
   "version": "3.9.13"
  },
  "orig_nbformat": 4,
  "vscode": {
   "interpreter": {
    "hash": "20976e4f85b67aba3d64007e9fc3976b13398775dde3f76c78c80814a61cd6f4"
   }
  }
 },
 "nbformat": 4,
 "nbformat_minor": 2
}
