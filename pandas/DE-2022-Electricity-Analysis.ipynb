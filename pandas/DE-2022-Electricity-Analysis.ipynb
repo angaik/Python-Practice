{
 "cells": [
  {
   "cell_type": "code",
   "execution_count": null,
   "metadata": {},
   "outputs": [],
   "source": [
    "import pandas as pd"
   ]
  },
  {
   "cell_type": "code",
   "execution_count": null,
   "metadata": {},
   "outputs": [],
   "source": [
    "df_DE2022_Elec=pd.read_csv(\"energy-charts_Public_net_electricity_generation_in_Germany_in_2022_Excel.csv\",index_col=0)\n",
    "\n",
    "print(df_DE2022_Elec)"
   ]
  }
 ],
 "metadata": {
  "kernelspec": {
   "display_name": "Python 3.9.13 64-bit (microsoft store)",
   "language": "python",
   "name": "python3"
  },
  "language_info": {
   "codemirror_mode": {
    "name": "ipython",
    "version": 3
   },
   "file_extension": ".py",
   "mimetype": "text/x-python",
   "name": "python",
   "nbconvert_exporter": "python",
   "pygments_lexer": "ipython3",
   "version": "3.9.13"
  },
  "orig_nbformat": 4,
  "vscode": {
   "interpreter": {
    "hash": "20976e4f85b67aba3d64007e9fc3976b13398775dde3f76c78c80814a61cd6f4"
   }
  }
 },
 "nbformat": 4,
 "nbformat_minor": 2
}
